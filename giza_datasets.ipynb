{
 "cells": [
  {
   "cell_type": "code",
   "execution_count": 18,
   "id": "625f984e-1094-44bc-a882-1e1bc4e4d49f",
   "metadata": {},
   "outputs": [],
   "source": [
    "from giza_datasets import DatasetsLoader\n",
    "import pandas as pd"
   ]
  },
  {
   "cell_type": "code",
   "execution_count": 13,
   "id": "5ed4eebc-9e6d-40be-a897-dfb69919d015",
   "metadata": {},
   "outputs": [
    {
     "data": {
      "text/html": [
       "<div><style>\n",
       ".dataframe > thead > tr,\n",
       ".dataframe > tbody > tr {\n",
       "  text-align: right;\n",
       "  white-space: pre-wrap;\n",
       "}\n",
       "</style>\n",
       "<small>shape: (5, 5)</small><table border=\"1\" class=\"dataframe\"><thead><tr><th>date</th><th>price</th><th>market_cap</th><th>volumes_last_24h</th><th>token</th></tr><tr><td>date</td><td>f64</td><td>f64</td><td>f64</td><td>str</td></tr></thead><tbody><tr><td>2024-02-01</td><td>0.316158</td><td>2.6794e8</td><td>1.9854e7</td><td>&quot;ZRX&quot;</td></tr><tr><td>2024-02-02</td><td>0.319726</td><td>2.7104e8</td><td>1.2309e7</td><td>&quot;ZRX&quot;</td></tr><tr><td>2024-02-03</td><td>0.322348</td><td>2.7320e8</td><td>9.9076e6</td><td>&quot;ZRX&quot;</td></tr><tr><td>2024-02-04</td><td>0.317486</td><td>2.6917e8</td><td>7.3459e6</td><td>&quot;ZRX&quot;</td></tr><tr><td>2024-02-05</td><td>0.3116971</td><td>2.6391e8</td><td>6.6598e6</td><td>&quot;ZRX&quot;</td></tr></tbody></table></div>"
      ],
      "text/plain": [
       "shape: (5, 5)\n",
       "┌────────────┬───────────┬────────────┬──────────────────┬───────┐\n",
       "│ date       ┆ price     ┆ market_cap ┆ volumes_last_24h ┆ token │\n",
       "│ ---        ┆ ---       ┆ ---        ┆ ---              ┆ ---   │\n",
       "│ date       ┆ f64       ┆ f64        ┆ f64              ┆ str   │\n",
       "╞════════════╪═══════════╪════════════╪══════════════════╪═══════╡\n",
       "│ 2024-02-01 ┆ 0.316158  ┆ 2.6794e8   ┆ 1.9854e7         ┆ ZRX   │\n",
       "│ 2024-02-02 ┆ 0.319726  ┆ 2.7104e8   ┆ 1.2309e7         ┆ ZRX   │\n",
       "│ 2024-02-03 ┆ 0.322348  ┆ 2.7320e8   ┆ 9.9076e6         ┆ ZRX   │\n",
       "│ 2024-02-04 ┆ 0.317486  ┆ 2.6917e8   ┆ 7.3459e6         ┆ ZRX   │\n",
       "│ 2024-02-05 ┆ 0.3116971 ┆ 2.6391e8   ┆ 6.6598e6         ┆ ZRX   │\n",
       "└────────────┴───────────┴────────────┴──────────────────┴───────┘"
      ]
     },
     "execution_count": 13,
     "metadata": {},
     "output_type": "execute_result"
    }
   ],
   "source": [
    "df.tail()"
   ]
  },
  {
   "cell_type": "code",
   "execution_count": 20,
   "id": "84e77419-f4b1-4ae2-a019-b8f8a2816f29",
   "metadata": {},
   "outputs": [
    {
     "ename": "AttributeError",
     "evalue": "'DataFrame' object has no attribute 'set_index'",
     "output_type": "error",
     "traceback": [
      "\u001b[0;31m---------------------------------------------------------------------------\u001b[0m",
      "\u001b[0;31mAttributeError\u001b[0m                            Traceback (most recent call last)",
      "Cell \u001b[0;32mIn[20], line 2\u001b[0m\n\u001b[1;32m      1\u001b[0m \u001b[38;5;66;03m#df['token'].unique()\u001b[39;00m\n\u001b[0;32m----> 2\u001b[0m \u001b[43mdf\u001b[49m\u001b[38;5;241;43m.\u001b[39;49m\u001b[43mset_index\u001b[49m\n",
      "\u001b[0;31mAttributeError\u001b[0m: 'DataFrame' object has no attribute 'set_index'"
     ]
    }
   ],
   "source": [
    "#df['token'].unique()\n",
    "df.set_index"
   ]
  },
  {
   "cell_type": "code",
   "execution_count": 19,
   "id": "c4109daa-7789-447e-b10d-f4d6141f3578",
   "metadata": {},
   "outputs": [
    {
     "data": {
      "text/plain": [
       "DatetimeIndex(['2019-02-01', '2019-02-02', '2019-02-03', '2019-02-04',\n",
       "               '2019-02-05', '2019-02-06', '2019-02-07', '2019-02-08',\n",
       "               '2019-02-09', '2019-02-10',\n",
       "               ...\n",
       "               '2024-01-27', '2024-01-28', '2024-01-29', '2024-01-30',\n",
       "               '2024-01-31', '2024-02-01', '2024-02-02', '2024-02-03',\n",
       "               '2024-02-04', '2024-02-05'],\n",
       "              dtype='datetime64[ns]', length=49044, freq=None)"
      ]
     },
     "execution_count": 19,
     "metadata": {},
     "output_type": "execute_result"
    }
   ],
   "source": [
    "pd.to_datetime(df['date'])"
   ]
  },
  {
   "cell_type": "code",
   "execution_count": 21,
   "id": "bff9acad-989e-4c92-9d2e-05e4cec96ebb",
   "metadata": {},
   "outputs": [
    {
     "data": {
      "text/plain": [
       "polars.dataframe.frame.DataFrame"
      ]
     },
     "execution_count": 21,
     "metadata": {},
     "output_type": "execute_result"
    }
   ],
   "source": [
    "type(df)"
   ]
  },
  {
   "cell_type": "code",
   "execution_count": null,
   "id": "6886a17e-51c8-4f73-9135-d8880d790ba8",
   "metadata": {},
   "outputs": [],
   "source": []
  }
 ],
 "metadata": {
  "kernelspec": {
   "display_name": "Python 3 (ipykernel)",
   "language": "python",
   "name": "python3"
  },
  "language_info": {
   "codemirror_mode": {
    "name": "ipython",
    "version": 3
   },
   "file_extension": ".py",
   "mimetype": "text/x-python",
   "name": "python",
   "nbconvert_exporter": "python",
   "pygments_lexer": "ipython3",
   "version": "3.11.5"
  }
 },
 "nbformat": 4,
 "nbformat_minor": 5
}
